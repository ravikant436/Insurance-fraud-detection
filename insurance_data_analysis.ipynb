{
  "nbformat": 4,
  "nbformat_minor": 0,
  "metadata": {
    "colab": {
      "name": "insurance_data_analysis.ipynb",
      "provenance": [],
      "collapsed_sections": []
    },
    "kernelspec": {
      "name": "python3",
      "display_name": "Python 3"
    }
  },
  "cells": [
    {
      "cell_type": "code",
      "metadata": {
        "id": "WDXwcPTGBKwd"
      },
      "source": [
        "import pandas as pd\r\n",
        "import numpy as np\r\n",
        "import matplotlib.pyplot as plt\r\n",
        "%matplotlib inline\r\n",
        "import seaborn as sns"
      ],
      "execution_count": null,
      "outputs": []
    },
    {
      "cell_type": "code",
      "metadata": {
        "colab": {
          "base_uri": "https://localhost:8080/",
          "height": 282
        },
        "id": "fdOXSSs0B5vp",
        "outputId": "d2a5433e-6026-4e2e-b169-26bac743cd04"
      },
      "source": [
        "df = pd.read_csv(\"/content/drive/MyDrive/Colab Notebooks/Interview Topics/Insurance Fraund Detection/insuranceFraud.csv\")\r\n",
        "df.head()"
      ],
      "execution_count": null,
      "outputs": [
        {
          "output_type": "execute_result",
          "data": {
            "text/html": [
              "<div>\n",
              "<style scoped>\n",
              "    .dataframe tbody tr th:only-of-type {\n",
              "        vertical-align: middle;\n",
              "    }\n",
              "\n",
              "    .dataframe tbody tr th {\n",
              "        vertical-align: top;\n",
              "    }\n",
              "\n",
              "    .dataframe thead th {\n",
              "        text-align: right;\n",
              "    }\n",
              "</style>\n",
              "<table border=\"1\" class=\"dataframe\">\n",
              "  <thead>\n",
              "    <tr style=\"text-align: right;\">\n",
              "      <th></th>\n",
              "      <th>months_as_customer</th>\n",
              "      <th>age</th>\n",
              "      <th>policy_number</th>\n",
              "      <th>policy_bind_date</th>\n",
              "      <th>policy_state</th>\n",
              "      <th>policy_csl</th>\n",
              "      <th>policy_deductable</th>\n",
              "      <th>policy_annual_premium</th>\n",
              "      <th>umbrella_limit</th>\n",
              "      <th>insured_zip</th>\n",
              "      <th>insured_sex</th>\n",
              "      <th>insured_education_level</th>\n",
              "      <th>insured_occupation</th>\n",
              "      <th>insured_hobbies</th>\n",
              "      <th>insured_relationship</th>\n",
              "      <th>capital-gains</th>\n",
              "      <th>capital-loss</th>\n",
              "      <th>incident_date</th>\n",
              "      <th>incident_type</th>\n",
              "      <th>collision_type</th>\n",
              "      <th>incident_severity</th>\n",
              "      <th>authorities_contacted</th>\n",
              "      <th>incident_state</th>\n",
              "      <th>incident_city</th>\n",
              "      <th>incident_location</th>\n",
              "      <th>incident_hour_of_the_day</th>\n",
              "      <th>number_of_vehicles_involved</th>\n",
              "      <th>property_damage</th>\n",
              "      <th>bodily_injuries</th>\n",
              "      <th>witnesses</th>\n",
              "      <th>police_report_available</th>\n",
              "      <th>total_claim_amount</th>\n",
              "      <th>injury_claim</th>\n",
              "      <th>property_claim</th>\n",
              "      <th>vehicle_claim</th>\n",
              "      <th>auto_make</th>\n",
              "      <th>auto_model</th>\n",
              "      <th>auto_year</th>\n",
              "      <th>fraud_reported</th>\n",
              "    </tr>\n",
              "  </thead>\n",
              "  <tbody>\n",
              "    <tr>\n",
              "      <th>0</th>\n",
              "      <td>328</td>\n",
              "      <td>48</td>\n",
              "      <td>521585</td>\n",
              "      <td>10/17/2014</td>\n",
              "      <td>OH</td>\n",
              "      <td>250/500</td>\n",
              "      <td>1000</td>\n",
              "      <td>1406.91</td>\n",
              "      <td>0</td>\n",
              "      <td>466132</td>\n",
              "      <td>MALE</td>\n",
              "      <td>MD</td>\n",
              "      <td>craft-repair</td>\n",
              "      <td>sleeping</td>\n",
              "      <td>husband</td>\n",
              "      <td>53300</td>\n",
              "      <td>0</td>\n",
              "      <td>1/25/2015</td>\n",
              "      <td>Single Vehicle Collision</td>\n",
              "      <td>Side Collision</td>\n",
              "      <td>Major Damage</td>\n",
              "      <td>Police</td>\n",
              "      <td>SC</td>\n",
              "      <td>Columbus</td>\n",
              "      <td>9935 4th Drive</td>\n",
              "      <td>5</td>\n",
              "      <td>1</td>\n",
              "      <td>YES</td>\n",
              "      <td>1</td>\n",
              "      <td>2</td>\n",
              "      <td>YES</td>\n",
              "      <td>71610</td>\n",
              "      <td>6510</td>\n",
              "      <td>13020</td>\n",
              "      <td>52080</td>\n",
              "      <td>Saab</td>\n",
              "      <td>92x</td>\n",
              "      <td>2004</td>\n",
              "      <td>Y</td>\n",
              "    </tr>\n",
              "    <tr>\n",
              "      <th>1</th>\n",
              "      <td>228</td>\n",
              "      <td>42</td>\n",
              "      <td>342868</td>\n",
              "      <td>6/27/2006</td>\n",
              "      <td>IN</td>\n",
              "      <td>250/500</td>\n",
              "      <td>2000</td>\n",
              "      <td>1197.22</td>\n",
              "      <td>5000000</td>\n",
              "      <td>468176</td>\n",
              "      <td>MALE</td>\n",
              "      <td>MD</td>\n",
              "      <td>machine-op-inspct</td>\n",
              "      <td>reading</td>\n",
              "      <td>other-relative</td>\n",
              "      <td>0</td>\n",
              "      <td>0</td>\n",
              "      <td>1/21/2015</td>\n",
              "      <td>Vehicle Theft</td>\n",
              "      <td>?</td>\n",
              "      <td>Minor Damage</td>\n",
              "      <td>Police</td>\n",
              "      <td>VA</td>\n",
              "      <td>Riverwood</td>\n",
              "      <td>6608 MLK Hwy</td>\n",
              "      <td>8</td>\n",
              "      <td>1</td>\n",
              "      <td>?</td>\n",
              "      <td>0</td>\n",
              "      <td>0</td>\n",
              "      <td>?</td>\n",
              "      <td>5070</td>\n",
              "      <td>780</td>\n",
              "      <td>780</td>\n",
              "      <td>3510</td>\n",
              "      <td>Mercedes</td>\n",
              "      <td>E400</td>\n",
              "      <td>2007</td>\n",
              "      <td>Y</td>\n",
              "    </tr>\n",
              "    <tr>\n",
              "      <th>2</th>\n",
              "      <td>134</td>\n",
              "      <td>29</td>\n",
              "      <td>687698</td>\n",
              "      <td>9/6/2000</td>\n",
              "      <td>OH</td>\n",
              "      <td>100/300</td>\n",
              "      <td>2000</td>\n",
              "      <td>1413.14</td>\n",
              "      <td>5000000</td>\n",
              "      <td>430632</td>\n",
              "      <td>FEMALE</td>\n",
              "      <td>PhD</td>\n",
              "      <td>sales</td>\n",
              "      <td>board-games</td>\n",
              "      <td>own-child</td>\n",
              "      <td>35100</td>\n",
              "      <td>0</td>\n",
              "      <td>2/22/2015</td>\n",
              "      <td>Multi-vehicle Collision</td>\n",
              "      <td>Rear Collision</td>\n",
              "      <td>Minor Damage</td>\n",
              "      <td>Police</td>\n",
              "      <td>NY</td>\n",
              "      <td>Columbus</td>\n",
              "      <td>7121 Francis Lane</td>\n",
              "      <td>7</td>\n",
              "      <td>3</td>\n",
              "      <td>NO</td>\n",
              "      <td>2</td>\n",
              "      <td>3</td>\n",
              "      <td>NO</td>\n",
              "      <td>34650</td>\n",
              "      <td>7700</td>\n",
              "      <td>3850</td>\n",
              "      <td>23100</td>\n",
              "      <td>Dodge</td>\n",
              "      <td>RAM</td>\n",
              "      <td>2007</td>\n",
              "      <td>N</td>\n",
              "    </tr>\n",
              "    <tr>\n",
              "      <th>3</th>\n",
              "      <td>256</td>\n",
              "      <td>41</td>\n",
              "      <td>227811</td>\n",
              "      <td>5/25/1990</td>\n",
              "      <td>IL</td>\n",
              "      <td>250/500</td>\n",
              "      <td>2000</td>\n",
              "      <td>1415.74</td>\n",
              "      <td>6000000</td>\n",
              "      <td>608117</td>\n",
              "      <td>FEMALE</td>\n",
              "      <td>PhD</td>\n",
              "      <td>armed-forces</td>\n",
              "      <td>board-games</td>\n",
              "      <td>unmarried</td>\n",
              "      <td>48900</td>\n",
              "      <td>-62400</td>\n",
              "      <td>1/10/2015</td>\n",
              "      <td>Single Vehicle Collision</td>\n",
              "      <td>Front Collision</td>\n",
              "      <td>Major Damage</td>\n",
              "      <td>Police</td>\n",
              "      <td>OH</td>\n",
              "      <td>Arlington</td>\n",
              "      <td>6956 Maple Drive</td>\n",
              "      <td>5</td>\n",
              "      <td>1</td>\n",
              "      <td>?</td>\n",
              "      <td>1</td>\n",
              "      <td>2</td>\n",
              "      <td>NO</td>\n",
              "      <td>63400</td>\n",
              "      <td>6340</td>\n",
              "      <td>6340</td>\n",
              "      <td>50720</td>\n",
              "      <td>Chevrolet</td>\n",
              "      <td>Tahoe</td>\n",
              "      <td>2014</td>\n",
              "      <td>Y</td>\n",
              "    </tr>\n",
              "    <tr>\n",
              "      <th>4</th>\n",
              "      <td>228</td>\n",
              "      <td>44</td>\n",
              "      <td>367455</td>\n",
              "      <td>6/6/2014</td>\n",
              "      <td>IL</td>\n",
              "      <td>500/1000</td>\n",
              "      <td>1000</td>\n",
              "      <td>1583.91</td>\n",
              "      <td>6000000</td>\n",
              "      <td>610706</td>\n",
              "      <td>MALE</td>\n",
              "      <td>Associate</td>\n",
              "      <td>sales</td>\n",
              "      <td>board-games</td>\n",
              "      <td>unmarried</td>\n",
              "      <td>66000</td>\n",
              "      <td>-46000</td>\n",
              "      <td>2/17/2015</td>\n",
              "      <td>Vehicle Theft</td>\n",
              "      <td>?</td>\n",
              "      <td>Minor Damage</td>\n",
              "      <td>None</td>\n",
              "      <td>NY</td>\n",
              "      <td>Arlington</td>\n",
              "      <td>3041 3rd Ave</td>\n",
              "      <td>20</td>\n",
              "      <td>1</td>\n",
              "      <td>NO</td>\n",
              "      <td>0</td>\n",
              "      <td>1</td>\n",
              "      <td>NO</td>\n",
              "      <td>6500</td>\n",
              "      <td>1300</td>\n",
              "      <td>650</td>\n",
              "      <td>4550</td>\n",
              "      <td>Accura</td>\n",
              "      <td>RSX</td>\n",
              "      <td>2009</td>\n",
              "      <td>N</td>\n",
              "    </tr>\n",
              "  </tbody>\n",
              "</table>\n",
              "</div>"
            ],
            "text/plain": [
              "   months_as_customer  age  policy_number  ... auto_model auto_year fraud_reported\n",
              "0                 328   48         521585  ...        92x      2004              Y\n",
              "1                 228   42         342868  ...       E400      2007              Y\n",
              "2                 134   29         687698  ...        RAM      2007              N\n",
              "3                 256   41         227811  ...      Tahoe      2014              Y\n",
              "4                 228   44         367455  ...        RSX      2009              N\n",
              "\n",
              "[5 rows x 39 columns]"
            ]
          },
          "metadata": {
            "tags": []
          },
          "execution_count": 132
        }
      ]
    },
    {
      "cell_type": "code",
      "metadata": {
        "colab": {
          "base_uri": "https://localhost:8080/"
        },
        "id": "V12pQtwAcBxV",
        "outputId": "794d0a86-fb26-46b7-ed25-51110bdbd164"
      },
      "source": [
        "print(df.policy_state.unique())\r\n",
        "print(df.policy_csl.unique())\r\n",
        "print(df.insured_education_level.unique())\r\n",
        "print(df.insured_relationship.unique())\r\n",
        "print(df.insured_hobbies.unique())\r\n",
        "print(df.incident_type.unique())\r\n",
        "print(df.collision_type.unique())\r\n",
        "print(df.incident_severity.unique())\r\n",
        "print(df.authorities_contacted.unique())\r\n",
        "print(df.incident_state.unique())\r\n",
        "print(df.incident_city.unique())\r\n",
        "print(df.police_report_available.unique())\r\n",
        "print(df.auto_make.unique())\r\n",
        "\r\n"
      ],
      "execution_count": null,
      "outputs": [
        {
          "output_type": "stream",
          "text": [
            "['OH' 'IN' 'IL']\n",
            "['250/500' '100/300' '500/1000']\n",
            "['MD' 'PhD' 'Associate' 'Masters' 'High School' 'College' 'JD']\n",
            "['husband' 'other-relative' 'own-child' 'unmarried' 'wife' 'not-in-family']\n",
            "['sleeping' 'reading' 'board-games' 'bungie-jumping' 'base-jumping' 'golf'\n",
            " 'camping' 'dancing' 'skydiving' 'movies' 'hiking' 'yachting' 'paintball'\n",
            " 'chess' 'kayaking' 'polo' 'basketball' 'video-games' 'cross-fit'\n",
            " 'exercise']\n",
            "['Single Vehicle Collision' 'Vehicle Theft' 'Multi-vehicle Collision'\n",
            " 'Parked Car']\n",
            "['Side Collision' '?' 'Rear Collision' 'Front Collision']\n",
            "['Major Damage' 'Minor Damage' 'Total Loss' 'Trivial Damage']\n",
            "['Police' 'None' 'Fire' 'Other' 'Ambulance']\n",
            "['SC' 'VA' 'NY' 'OH' 'WV' 'NC' 'PA']\n",
            "['Columbus' 'Riverwood' 'Arlington' 'Springfield' 'Hillsdale' 'Northbend'\n",
            " 'Northbrook']\n",
            "['YES' '?' 'NO']\n",
            "['Saab' 'Mercedes' 'Dodge' 'Chevrolet' 'Accura' 'Nissan' 'Audi' 'Toyota'\n",
            " 'Ford' 'Suburu' 'BMW' 'Jeep' 'Honda' 'Volkswagen']\n"
          ],
          "name": "stdout"
        }
      ]
    },
    {
      "cell_type": "markdown",
      "metadata": {
        "id": "9F4bBhJ7IJVL"
      },
      "source": [
        "**We have ? as Nan character, So first we replace ? with Nan then we will handle missing values**"
      ]
    },
    {
      "cell_type": "code",
      "metadata": {
        "id": "6sJPFd-5II6o"
      },
      "source": [
        "df = df.replace('?', np.nan)"
      ],
      "execution_count": null,
      "outputs": []
    },
    {
      "cell_type": "code",
      "metadata": {
        "colab": {
          "base_uri": "https://localhost:8080/",
          "height": 441
        },
        "id": "jofg3TrrIUxz",
        "outputId": "5d190ff8-094e-4e8c-eb57-b4f4f47d9793"
      },
      "source": [
        "sns.heatmap(df.isnull())"
      ],
      "execution_count": null,
      "outputs": [
        {
          "output_type": "execute_result",
          "data": {
            "text/plain": [
              "<matplotlib.axes._subplots.AxesSubplot at 0x7f7d8be8b898>"
            ]
          },
          "metadata": {
            "tags": []
          },
          "execution_count": 135
        },
        {
          "output_type": "display_data",
          "data": {
            "image/png": "[encoded data removed]",
            "text/plain": [
              "<Figure size 432x288 with 2 Axes>"
            ]
          },
          "metadata": {
            "tags": [],
            "needs_background": "light"
          }
        }
      ]
    },
    {
      "cell_type": "code",
      "metadata": {
        "colab": {
          "base_uri": "https://localhost:8080/"
        },
        "id": "rfHIF_NLUThu",
        "outputId": "b45b2003-3632-44ae-d5e2-c12a0dca92eb"
      },
      "source": [
        "df.isnull().sum()"
      ],
      "execution_count": null,
      "outputs": [
        {
          "output_type": "execute_result",
          "data": {
            "text/plain": [
              "months_as_customer               0\n",
              "age                              0\n",
              "policy_number                    0\n",
              "policy_bind_date                 0\n",
              "policy_state                     0\n",
              "policy_csl                       0\n",
              "policy_deductable                0\n",
              "policy_annual_premium            0\n",
              "umbrella_limit                   0\n",
              "insured_zip                      0\n",
              "insured_sex                      0\n",
              "insured_education_level          0\n",
              "insured_occupation               0\n",
              "insured_hobbies                  0\n",
              "insured_relationship             0\n",
              "capital-gains                    0\n",
              "capital-loss                     0\n",
              "incident_date                    0\n",
              "incident_type                    0\n",
              "collision_type                 178\n",
              "incident_severity                0\n",
              "authorities_contacted            0\n",
              "incident_state                   0\n",
              "incident_city                    0\n",
              "incident_location                0\n",
              "incident_hour_of_the_day         0\n",
              "number_of_vehicles_involved      0\n",
              "property_damage                360\n",
              "bodily_injuries                  0\n",
              "witnesses                        0\n",
              "police_report_available        343\n",
              "total_claim_amount               0\n",
              "injury_claim                     0\n",
              "property_claim                   0\n",
              "vehicle_claim                    0\n",
              "auto_make                        0\n",
              "auto_model                       0\n",
              "auto_year                        0\n",
              "fraud_reported                   0\n",
              "dtype: int64"
            ]
          },
          "metadata": {
            "tags": []
          },
          "execution_count": 136
        }
      ]
    },
    {
      "cell_type": "code",
      "metadata": {
        "colab": {
          "base_uri": "https://localhost:8080/"
        },
        "id": "PzvRt_jMB-Ft",
        "outputId": "baadfcbb-c5c3-4c62-da78-b309f6a66b89"
      },
      "source": [
        "df.collision_type.value_counts()"
      ],
      "execution_count": null,
      "outputs": [
        {
          "output_type": "execute_result",
          "data": {
            "text/plain": [
              "Rear Collision     292\n",
              "Side Collision     276\n",
              "Front Collision    254\n",
              "Name: collision_type, dtype: int64"
            ]
          },
          "metadata": {
            "tags": []
          },
          "execution_count": 137
        }
      ]
    },
    {
      "cell_type": "code",
      "metadata": {
        "colab": {
          "base_uri": "https://localhost:8080/"
        },
        "id": "BlILgQ5cQNoA",
        "outputId": "d85d8b7c-f1e9-481a-9954-d35a77e8ef58"
      },
      "source": [
        "df.property_damage.value_counts()"
      ],
      "execution_count": null,
      "outputs": [
        {
          "output_type": "execute_result",
          "data": {
            "text/plain": [
              "NO     338\n",
              "YES    302\n",
              "Name: property_damage, dtype: int64"
            ]
          },
          "metadata": {
            "tags": []
          },
          "execution_count": 138
        }
      ]
    },
    {
      "cell_type": "code",
      "metadata": {
        "colab": {
          "base_uri": "https://localhost:8080/"
        },
        "id": "k5vlxotTQwgb",
        "outputId": "13e07139-5a5f-4289-9d36-bb31646fa518"
      },
      "source": [
        "df.police_report_available.value_counts()"
      ],
      "execution_count": null,
      "outputs": [
        {
          "output_type": "execute_result",
          "data": {
            "text/plain": [
              "NO     343\n",
              "YES    314\n",
              "Name: police_report_available, dtype: int64"
            ]
          },
          "metadata": {
            "tags": []
          },
          "execution_count": 139
        }
      ]
    },
    {
      "cell_type": "markdown",
      "metadata": {
        "id": "05YyTKevgGcW"
      },
      "source": [
        "#Feature Engineering"
      ]
    },
    {
      "cell_type": "markdown",
      "metadata": {
        "id": "ZdOVD49fgUsv"
      },
      "source": [
        "**Handling Missing values**"
      ]
    },
    {
      "cell_type": "code",
      "metadata": {
        "id": "RueKZ5qCgGJA"
      },
      "source": [
        "# Collision type\r\n",
        "df[\"collision_type\"] = df[\"collision_type\"].fillna('Other')\r\n",
        "# police report availablity\r\n",
        "df[\"police_report_available\"] = df[\"police_report_available\"].fillna('unknown')\r\n",
        "# property damage\r\n",
        "df[\"property_damage\"] = df[\"property_damage\"].fillna('unknown')"
      ],
      "execution_count": null,
      "outputs": []
    },
    {
      "cell_type": "code",
      "metadata": {
        "colab": {
          "base_uri": "https://localhost:8080/",
          "height": 441
        },
        "id": "OZ6YWXXBfhy5",
        "outputId": "d927c264-a3ed-4975-8a21-0ab0b0cb095b"
      },
      "source": [
        "sns.heatmap(df.isnull())"
      ],
      "execution_count": null,
      "outputs": [
        {
          "output_type": "execute_result",
          "data": {
            "text/plain": [
              "<matplotlib.axes._subplots.AxesSubplot at 0x7f7d8bddbd30>"
            ]
          },
          "metadata": {
            "tags": []
          },
          "execution_count": 141
        },
        {
          "output_type": "display_data",
          "data": {
            "image/png": "[encoded data removed]",
            "text/plain": [
              "<Figure size 432x288 with 2 Axes>"
            ]
          },
          "metadata": {
            "tags": [],
            "needs_background": "light"
          }
        }
      ]
    },
    {
      "cell_type": "markdown",
      "metadata": {
        "id": "NLSkOWfojC5j"
      },
      "source": [
        "**Handling Categorical Variable**"
      ]
    },
    {
      "cell_type": "code",
      "metadata": {
        "id": "McYl3mA9h_Y9"
      },
      "source": [
        "df[\"fraud_reported\"] = pd.Series(np.where(df.fraud_reported.values == 'Y', 1, 0), df.fraud_reported.index)"
      ],
      "execution_count": null,
      "outputs": []
    },
    {
      "cell_type": "code",
      "metadata": {
        "colab": {
          "base_uri": "https://localhost:8080/",
          "height": 285
        },
        "id": "ocS81MsSlSaG",
        "outputId": "1ef06f8e-7ecd-43a2-8a9d-282f97562ea4"
      },
      "source": [
        "sns.set_theme(style=\"darkgrid\")\r\n",
        "ax = sns.histplot(x=\"age\", data=df, bins=5)"
      ],
      "execution_count": null,
      "outputs": [
        {
          "output_type": "display_data",
          "data": {
            "image/png": "[encoded data removed]",
            "text/plain": [
              "<Figure size 432x288 with 1 Axes>"
            ]
          },
          "metadata": {
            "tags": []
          }
        }
      ]
    },
    {
      "cell_type": "code",
      "metadata": {
        "id": "nnIC7sxClN3S"
      },
      "source": [
        "def convertAgesToCategories(age):\r\n",
        "  if age < 25:\r\n",
        "    age_type = \"<25\"\r\n",
        "  elif age >= 25 and age <=40:\r\n",
        "    age_type = \"25-40\"\r\n",
        "  elif age > 40 and age <= 50:\r\n",
        "    age_type = \"40-50\"\r\n",
        "  else:\r\n",
        "    age_type = \">50\"\r\n",
        "  return age_type"
      ],
      "execution_count": null,
      "outputs": []
    },
    {
      "cell_type": "code",
      "metadata": {
        "id": "L2n2iNn6neVd"
      },
      "source": [
        "df['age_cat'] = df['age'].apply(convertAgesToCategories)\r\n",
        "df.drop('age', axis=1, inplace=True)"
      ],
      "execution_count": null,
      "outputs": []
    },
    {
      "cell_type": "code",
      "metadata": {
        "colab": {
          "base_uri": "https://localhost:8080/",
          "height": 302
        },
        "id": "lZnH8J_5kVXJ",
        "outputId": "e24f6366-1b53-496e-a1ef-254bf1cb58a0"
      },
      "source": [
        "sns.set_style('whitegrid')\r\n",
        "sns.countplot(x='fraud_reported',data=df)"
      ],
      "execution_count": null,
      "outputs": [
        {
          "output_type": "execute_result",
          "data": {
            "text/plain": [
              "<matplotlib.axes._subplots.AxesSubplot at 0x7f7d8bc97f98>"
            ]
          },
          "metadata": {
            "tags": []
          },
          "execution_count": 146
        },
        {
          "output_type": "display_data",
          "data": {
            "image/png": "[encoded data removed]",
            "text/plain": [
              "<Figure size 432x288 with 1 Axes>"
            ]
          },
          "metadata": {
            "tags": []
          }
        }
      ]
    },
    {
      "cell_type": "code",
      "metadata": {
        "colab": {
          "base_uri": "https://localhost:8080/",
          "height": 302
        },
        "id": "eGCsl7YUkWqY",
        "outputId": "c3ad62aa-15c3-451f-c263-b771660f2758"
      },
      "source": [
        "sns.set_style('whitegrid')\r\n",
        "sns.countplot(x='fraud_reported', hue='age_cat', data=df)"
      ],
      "execution_count": null,
      "outputs": [
        {
          "output_type": "execute_result",
          "data": {
            "text/plain": [
              "<matplotlib.axes._subplots.AxesSubplot at 0x7f7d8bc094e0>"
            ]
          },
          "metadata": {
            "tags": []
          },
          "execution_count": 147
        },
        {
          "output_type": "display_data",
          "data": {
            "image/png": "[encoded data removed]",
            "text/plain": [
              "<Figure size 432x288 with 1 Axes>"
            ]
          },
          "metadata": {
            "tags": []
          }
        }
      ]
    },
    {
      "cell_type": "markdown",
      "metadata": {
        "id": "seDx_pu_qhd7"
      },
      "source": [
        "**Convert Date columns to Date type object**"
      ]
    },
    {
      "cell_type": "code",
      "metadata": {
        "id": "kZZn4PIDo3kt"
      },
      "source": [
        "df[\"incident_date\"] = pd.to_datetime(df[\"incident_date\"])\r\n",
        "df[\"policy_bind_date\"] = pd.to_datetime(df[\"policy_bind_date\"])"
      ],
      "execution_count": null,
      "outputs": []
    },
    {
      "cell_type": "code",
      "metadata": {
        "id": "pVfcEEJdpngC"
      },
      "source": [
        "df[\"incident_month\"] = df[\"incident_date\"].dt.month\r\n",
        "df[\"incident_year\"] = df[\"incident_date\"].dt.year\r\n",
        "\r\n",
        "df[\"policy_bind_month\"] = df[\"policy_bind_date\"].dt.month\r\n",
        "df[\"policy_bind_year\"] = df[\"policy_bind_date\"].dt.year\r\n",
        "\r\n",
        "df.drop('incident_date', axis=1, inplace=True)\r\n",
        "df.drop('policy_bind_date', axis=1, inplace=True)"
      ],
      "execution_count": null,
      "outputs": []
    },
    {
      "cell_type": "code",
      "metadata": {
        "id": "teKGYv4ovkFj"
      },
      "source": [
        "# dropping policy number\r\n",
        "df.drop('policy_number', axis=1, inplace=True)"
      ],
      "execution_count": null,
      "outputs": []
    },
    {
      "cell_type": "code",
      "metadata": {
        "id": "pLNyKt-AxRVJ"
      },
      "source": [
        "# Dropping Hobbies\r\n",
        "df.drop('insured_hobbies', axis=1, inplace=True)"
      ],
      "execution_count": null,
      "outputs": []
    },
    {
      "cell_type": "code",
      "metadata": {
        "id": "LAHOJn2jyTSA"
      },
      "source": [
        "# Dropping location\r\n",
        "df.drop('incident_location', axis=1, inplace=True)"
      ],
      "execution_count": null,
      "outputs": []
    },
    {
      "cell_type": "code",
      "metadata": {
        "id": "bRWl2nmo0FUO"
      },
      "source": [
        "# Dropping auto_make, auto_model\r\n",
        "df.drop('auto_model', axis=1, inplace=True)\r\n",
        "df.drop('auto_make', axis=1, inplace=True)"
      ],
      "execution_count": null,
      "outputs": []
    },
    {
      "cell_type": "code",
      "metadata": {
        "id": "JzO25q9O1LN8"
      },
      "source": [
        "df.drop('insured_zip', axis=1, inplace=True)"
      ],
      "execution_count": null,
      "outputs": []
    },
    {
      "cell_type": "code",
      "metadata": {
        "id": "q4beyVhfgtRX"
      },
      "source": [
        "def convertFractionToFloat(obj):\r\n",
        "  temp_arr = obj.split('/')\r\n",
        "  num = int(temp_arr[0])\r\n",
        "  den = int(temp_arr[1])\r\n",
        "  return num/den"
      ],
      "execution_count": null,
      "outputs": []
    },
    {
      "cell_type": "code",
      "metadata": {
        "id": "alC7BSH5hFy7"
      },
      "source": [
        "# convert policy csl fraction objects to float\r\n",
        "df[\"policy_csl\"] = df[\"policy_csl\"].apply(convertFractionToFloat)"
      ],
      "execution_count": null,
      "outputs": []
    },
    {
      "cell_type": "code",
      "metadata": {
        "id": "YX39ku3VkcH0"
      },
      "source": [
        "# Handling Umbrella_limit\r\n",
        "# dropping row with value -100000; it has index: 290\r\n",
        "df = df.drop(df.index[290])"
      ],
      "execution_count": null,
      "outputs": []
    },
    {
      "cell_type": "code",
      "metadata": {
        "id": "E4ZV6rsSkowo"
      },
      "source": [
        "# Ordinal Label encoding of Umbrella Limit\r\n",
        "def categorizeUmbrellaLimit(obj):\r\n",
        "  if obj <= 2000000:\r\n",
        "    return 1\r\n",
        "  elif obj <= 3000000:\r\n",
        "    return 2\r\n",
        "  elif obj <= 4000000:\r\n",
        "    return 3\r\n",
        "  elif obj <= 5000000:\r\n",
        "    return 4\r\n",
        "  elif obj <= 6000000:\r\n",
        "    return 5\r\n",
        "  elif obj <= 7000000:\r\n",
        "    return 6\r\n",
        "  elif obj <= 8000000:\r\n",
        "    return 7\r\n",
        "  elif obj <= 9000000:\r\n",
        "    return 8\r\n",
        "  elif obj <= 10000000:\r\n",
        "    return 9\r\n",
        "  else:\r\n",
        "    return 10\r\n",
        "\r\n",
        "df[\"umbrella_limit\"] = df[\"umbrella_limit\"].apply(categorizeUmbrellaLimit)"
      ],
      "execution_count": null,
      "outputs": []
    },
    {
      "cell_type": "code",
      "metadata": {
        "id": "7lPFYMVxoqlp"
      },
      "source": [
        "# Ordinal Label Encoding of Education level\r\n",
        "def categorizeEducation(obj):\r\n",
        "  if obj == 'High School':\r\n",
        "    return 1\r\n",
        "  elif obj == 'College':\r\n",
        "    return 2\r\n",
        "  elif obj == 'JD' or obj == 'Masters' or obj == 'MD' or obj == 'Associate':\r\n",
        "    return 3\r\n",
        "  elif obj == 'PhD':\r\n",
        "    return 4\r\n",
        "\r\n",
        "df[\"insured_education_level\"] = df[\"insured_education_level\"].apply(categorizeEducation)"
      ],
      "execution_count": null,
      "outputs": []
    },
    {
      "cell_type": "code",
      "metadata": {
        "colab": {
          "base_uri": "https://localhost:8080/"
        },
        "id": "EWN2QJW5vooa",
        "outputId": "28480e61-4464-4b64-bf5b-1626cde31882"
      },
      "source": [
        "df[\"insured_occupation\"].unique()"
      ],
      "execution_count": null,
      "outputs": [
        {
          "output_type": "execute_result",
          "data": {
            "text/plain": [
              "array(['craft-repair', 'machine-op-inspct', 'sales', 'armed-forces',\n",
              "       'tech-support', 'prof-specialty', 'other-service',\n",
              "       'priv-house-serv', 'exec-managerial', 'protective-serv',\n",
              "       'transport-moving', 'handlers-cleaners', 'adm-clerical',\n",
              "       'farming-fishing'], dtype=object)"
            ]
          },
          "metadata": {
            "tags": []
          },
          "execution_count": 160
        }
      ]
    },
    {
      "cell_type": "markdown",
      "metadata": {
        "id": "HpCeAcuz0Q63"
      },
      "source": [
        "**One hot Encoding**"
      ]
    },
    {
      "cell_type": "code",
      "metadata": {
        "id": "HStoQKdZuafj"
      },
      "source": [
        "# generate binary values using get_dummies\r\n",
        "dum_df = pd.get_dummies(df, columns=['policy_state', 'insured_sex', 'insured_relationship', 'incident_type', \r\n",
        "                                     'collision_type', 'incident_severity', 'authorities_contacted', 'incident_state',\r\n",
        "                                     'incident_city', 'property_damage', 'police_report_available', 'age_cat', 'insured_occupation'] )"
      ],
      "execution_count": null,
      "outputs": []
    },
    {
      "cell_type": "code",
      "metadata": {
        "colab": {
          "base_uri": "https://localhost:8080/",
          "height": 261
        },
        "id": "FDvrsG_cYfe6",
        "outputId": "4d97b62b-bdf0-4dfa-86f8-83601156b96b"
      },
      "source": [
        "dum_df.head()"
      ],
      "execution_count": null,
      "outputs": [
        {
          "output_type": "execute_result",
          "data": {
            "text/html": [
              "<div>\n",
              "<style scoped>\n",
              "    .dataframe tbody tr th:only-of-type {\n",
              "        vertical-align: middle;\n",
              "    }\n",
              "\n",
              "    .dataframe tbody tr th {\n",
              "        vertical-align: top;\n",
              "    }\n",
              "\n",
              "    .dataframe thead th {\n",
              "        text-align: right;\n",
              "    }\n",
              "</style>\n",
              "<table border=\"1\" class=\"dataframe\">\n",
              "  <thead>\n",
              "    <tr style=\"text-align: right;\">\n",
              "      <th></th>\n",
              "      <th>months_as_customer</th>\n",
              "      <th>policy_csl</th>\n",
              "      <th>policy_deductable</th>\n",
              "      <th>policy_annual_premium</th>\n",
              "      <th>umbrella_limit</th>\n",
              "      <th>insured_education_level</th>\n",
              "      <th>capital-gains</th>\n",
              "      <th>capital-loss</th>\n",
              "      <th>incident_hour_of_the_day</th>\n",
              "      <th>number_of_vehicles_involved</th>\n",
              "      <th>bodily_injuries</th>\n",
              "      <th>witnesses</th>\n",
              "      <th>total_claim_amount</th>\n",
              "      <th>injury_claim</th>\n",
              "      <th>property_claim</th>\n",
              "      <th>vehicle_claim</th>\n",
              "      <th>auto_year</th>\n",
              "      <th>fraud_reported</th>\n",
              "      <th>incident_month</th>\n",
              "      <th>incident_year</th>\n",
              "      <th>policy_bind_month</th>\n",
              "      <th>policy_bind_year</th>\n",
              "      <th>policy_state_IL</th>\n",
              "      <th>policy_state_IN</th>\n",
              "      <th>policy_state_OH</th>\n",
              "      <th>insured_sex_FEMALE</th>\n",
              "      <th>insured_sex_MALE</th>\n",
              "      <th>insured_relationship_husband</th>\n",
              "      <th>insured_relationship_not-in-family</th>\n",
              "      <th>insured_relationship_other-relative</th>\n",
              "      <th>insured_relationship_own-child</th>\n",
              "      <th>insured_relationship_unmarried</th>\n",
              "      <th>insured_relationship_wife</th>\n",
              "      <th>incident_type_Multi-vehicle Collision</th>\n",
              "      <th>incident_type_Parked Car</th>\n",
              "      <th>incident_type_Single Vehicle Collision</th>\n",
              "      <th>incident_type_Vehicle Theft</th>\n",
              "      <th>collision_type_Front Collision</th>\n",
              "      <th>collision_type_Other</th>\n",
              "      <th>collision_type_Rear Collision</th>\n",
              "      <th>...</th>\n",
              "      <th>authorities_contacted_Other</th>\n",
              "      <th>authorities_contacted_Police</th>\n",
              "      <th>incident_state_NC</th>\n",
              "      <th>incident_state_NY</th>\n",
              "      <th>incident_state_OH</th>\n",
              "      <th>incident_state_PA</th>\n",
              "      <th>incident_state_SC</th>\n",
              "      <th>incident_state_VA</th>\n",
              "      <th>incident_state_WV</th>\n",
              "      <th>incident_city_Arlington</th>\n",
              "      <th>incident_city_Columbus</th>\n",
              "      <th>incident_city_Hillsdale</th>\n",
              "      <th>incident_city_Northbend</th>\n",
              "      <th>incident_city_Northbrook</th>\n",
              "      <th>incident_city_Riverwood</th>\n",
              "      <th>incident_city_Springfield</th>\n",
              "      <th>property_damage_NO</th>\n",
              "      <th>property_damage_YES</th>\n",
              "      <th>property_damage_unknown</th>\n",
              "      <th>police_report_available_NO</th>\n",
              "      <th>police_report_available_YES</th>\n",
              "      <th>police_report_available_unknown</th>\n",
              "      <th>age_cat_25-40</th>\n",
              "      <th>age_cat_40-50</th>\n",
              "      <th>age_cat_&lt;25</th>\n",
              "      <th>age_cat_&gt;50</th>\n",
              "      <th>insured_occupation_adm-clerical</th>\n",
              "      <th>insured_occupation_armed-forces</th>\n",
              "      <th>insured_occupation_craft-repair</th>\n",
              "      <th>insured_occupation_exec-managerial</th>\n",
              "      <th>insured_occupation_farming-fishing</th>\n",
              "      <th>insured_occupation_handlers-cleaners</th>\n",
              "      <th>insured_occupation_machine-op-inspct</th>\n",
              "      <th>insured_occupation_other-service</th>\n",
              "      <th>insured_occupation_priv-house-serv</th>\n",
              "      <th>insured_occupation_prof-specialty</th>\n",
              "      <th>insured_occupation_protective-serv</th>\n",
              "      <th>insured_occupation_sales</th>\n",
              "      <th>insured_occupation_tech-support</th>\n",
              "      <th>insured_occupation_transport-moving</th>\n",
              "    </tr>\n",
              "  </thead>\n",
              "  <tbody>\n",
              "    <tr>\n",
              "      <th>0</th>\n",
              "      <td>328</td>\n",
              "      <td>0.500000</td>\n",
              "      <td>1000</td>\n",
              "      <td>1406.91</td>\n",
              "      <td>1</td>\n",
              "      <td>3</td>\n",
              "      <td>53300</td>\n",
              "      <td>0</td>\n",
              "      <td>5</td>\n",
              "      <td>1</td>\n",
              "      <td>1</td>\n",
              "      <td>2</td>\n",
              "      <td>71610</td>\n",
              "      <td>6510</td>\n",
              "      <td>13020</td>\n",
              "      <td>52080</td>\n",
              "      <td>2004</td>\n",
              "      <td>1</td>\n",
              "      <td>1</td>\n",
              "      <td>2015</td>\n",
              "      <td>10</td>\n",
              "      <td>2014</td>\n",
              "      <td>0</td>\n",
              "      <td>0</td>\n",
              "      <td>1</td>\n",
              "      <td>0</td>\n",
              "      <td>1</td>\n",
              "      <td>1</td>\n",
              "      <td>0</td>\n",
              "      <td>0</td>\n",
              "      <td>0</td>\n",
              "      <td>0</td>\n",
              "      <td>0</td>\n",
              "      <td>0</td>\n",
              "      <td>0</td>\n",
              "      <td>1</td>\n",
              "      <td>0</td>\n",
              "      <td>0</td>\n",
              "      <td>0</td>\n",
              "      <td>0</td>\n",
              "      <td>...</td>\n",
              "      <td>0</td>\n",
              "      <td>1</td>\n",
              "      <td>0</td>\n",
              "      <td>0</td>\n",
              "      <td>0</td>\n",
              "      <td>0</td>\n",
              "      <td>1</td>\n",
              "      <td>0</td>\n",
              "      <td>0</td>\n",
              "      <td>0</td>\n",
              "      <td>1</td>\n",
              "      <td>0</td>\n",
              "      <td>0</td>\n",
              "      <td>0</td>\n",
              "      <td>0</td>\n",
              "      <td>0</td>\n",
              "      <td>0</td>\n",
              "      <td>1</td>\n",
              "      <td>0</td>\n",
              "      <td>0</td>\n",
              "      <td>1</td>\n",
              "      <td>0</td>\n",
              "      <td>0</td>\n",
              "      <td>1</td>\n",
              "      <td>0</td>\n",
              "      <td>0</td>\n",
              "      <td>0</td>\n",
              "      <td>0</td>\n",
              "      <td>1</td>\n",
              "      <td>0</td>\n",
              "      <td>0</td>\n",
              "      <td>0</td>\n",
              "      <td>0</td>\n",
              "      <td>0</td>\n",
              "      <td>0</td>\n",
              "      <td>0</td>\n",
              "      <td>0</td>\n",
              "      <td>0</td>\n",
              "      <td>0</td>\n",
              "      <td>0</td>\n",
              "    </tr>\n",
              "    <tr>\n",
              "      <th>1</th>\n",
              "      <td>228</td>\n",
              "      <td>0.500000</td>\n",
              "      <td>2000</td>\n",
              "      <td>1197.22</td>\n",
              "      <td>4</td>\n",
              "      <td>3</td>\n",
              "      <td>0</td>\n",
              "      <td>0</td>\n",
              "      <td>8</td>\n",
              "      <td>1</td>\n",
              "      <td>0</td>\n",
              "      <td>0</td>\n",
              "      <td>5070</td>\n",
              "      <td>780</td>\n",
              "      <td>780</td>\n",
              "      <td>3510</td>\n",
              "      <td>2007</td>\n",
              "      <td>1</td>\n",
              "      <td>1</td>\n",
              "      <td>2015</td>\n",
              "      <td>6</td>\n",
              "      <td>2006</td>\n",
              "      <td>0</td>\n",
              "      <td>1</td>\n",
              "      <td>0</td>\n",
              "      <td>0</td>\n",
              "      <td>1</td>\n",
              "      <td>0</td>\n",
              "      <td>0</td>\n",
              "      <td>1</td>\n",
              "      <td>0</td>\n",
              "      <td>0</td>\n",
              "      <td>0</td>\n",
              "      <td>0</td>\n",
              "      <td>0</td>\n",
              "      <td>0</td>\n",
              "      <td>1</td>\n",
              "      <td>0</td>\n",
              "      <td>1</td>\n",
              "      <td>0</td>\n",
              "      <td>...</td>\n",
              "      <td>0</td>\n",
              "      <td>1</td>\n",
              "      <td>0</td>\n",
              "      <td>0</td>\n",
              "      <td>0</td>\n",
              "      <td>0</td>\n",
              "      <td>0</td>\n",
              "      <td>1</td>\n",
              "      <td>0</td>\n",
              "      <td>0</td>\n",
              "      <td>0</td>\n",
              "      <td>0</td>\n",
              "      <td>0</td>\n",
              "      <td>0</td>\n",
              "      <td>1</td>\n",
              "      <td>0</td>\n",
              "      <td>0</td>\n",
              "      <td>0</td>\n",
              "      <td>1</td>\n",
              "      <td>0</td>\n",
              "      <td>0</td>\n",
              "      <td>1</td>\n",
              "      <td>0</td>\n",
              "      <td>1</td>\n",
              "      <td>0</td>\n",
              "      <td>0</td>\n",
              "      <td>0</td>\n",
              "      <td>0</td>\n",
              "      <td>0</td>\n",
              "      <td>0</td>\n",
              "      <td>0</td>\n",
              "      <td>0</td>\n",
              "      <td>1</td>\n",
              "      <td>0</td>\n",
              "      <td>0</td>\n",
              "      <td>0</td>\n",
              "      <td>0</td>\n",
              "      <td>0</td>\n",
              "      <td>0</td>\n",
              "      <td>0</td>\n",
              "    </tr>\n",
              "    <tr>\n",
              "      <th>2</th>\n",
              "      <td>134</td>\n",
              "      <td>0.333333</td>\n",
              "      <td>2000</td>\n",
              "      <td>1413.14</td>\n",
              "      <td>4</td>\n",
              "      <td>4</td>\n",
              "      <td>35100</td>\n",
              "      <td>0</td>\n",
              "      <td>7</td>\n",
              "      <td>3</td>\n",
              "      <td>2</td>\n",
              "      <td>3</td>\n",
              "      <td>34650</td>\n",
              "      <td>7700</td>\n",
              "      <td>3850</td>\n",
              "      <td>23100</td>\n",
              "      <td>2007</td>\n",
              "      <td>0</td>\n",
              "      <td>2</td>\n",
              "      <td>2015</td>\n",
              "      <td>9</td>\n",
              "      <td>2000</td>\n",
              "      <td>0</td>\n",
              "      <td>0</td>\n",
              "      <td>1</td>\n",
              "      <td>1</td>\n",
              "      <td>0</td>\n",
              "      <td>0</td>\n",
              "      <td>0</td>\n",
              "      <td>0</td>\n",
              "      <td>1</td>\n",
              "      <td>0</td>\n",
              "      <td>0</td>\n",
              "      <td>1</td>\n",
              "      <td>0</td>\n",
              "      <td>0</td>\n",
              "      <td>0</td>\n",
              "      <td>0</td>\n",
              "      <td>0</td>\n",
              "      <td>1</td>\n",
              "      <td>...</td>\n",
              "      <td>0</td>\n",
              "      <td>1</td>\n",
              "      <td>0</td>\n",
              "      <td>1</td>\n",
              "      <td>0</td>\n",
              "      <td>0</td>\n",
              "      <td>0</td>\n",
              "      <td>0</td>\n",
              "      <td>0</td>\n",
              "      <td>0</td>\n",
              "      <td>1</td>\n",
              "      <td>0</td>\n",
              "      <td>0</td>\n",
              "      <td>0</td>\n",
              "      <td>0</td>\n",
              "      <td>0</td>\n",
              "      <td>1</td>\n",
              "      <td>0</td>\n",
              "      <td>0</td>\n",
              "      <td>1</td>\n",
              "      <td>0</td>\n",
              "      <td>0</td>\n",
              "      <td>1</td>\n",
              "      <td>0</td>\n",
              "      <td>0</td>\n",
              "      <td>0</td>\n",
              "      <td>0</td>\n",
              "      <td>0</td>\n",
              "      <td>0</td>\n",
              "      <td>0</td>\n",
              "      <td>0</td>\n",
              "      <td>0</td>\n",
              "      <td>0</td>\n",
              "      <td>0</td>\n",
              "      <td>0</td>\n",
              "      <td>0</td>\n",
              "      <td>0</td>\n",
              "      <td>1</td>\n",
              "      <td>0</td>\n",
              "      <td>0</td>\n",
              "    </tr>\n",
              "    <tr>\n",
              "      <th>3</th>\n",
              "      <td>256</td>\n",
              "      <td>0.500000</td>\n",
              "      <td>2000</td>\n",
              "      <td>1415.74</td>\n",
              "      <td>5</td>\n",
              "      <td>4</td>\n",
              "      <td>48900</td>\n",
              "      <td>-62400</td>\n",
              "      <td>5</td>\n",
              "      <td>1</td>\n",
              "      <td>1</td>\n",
              "      <td>2</td>\n",
              "      <td>63400</td>\n",
              "      <td>6340</td>\n",
              "      <td>6340</td>\n",
              "      <td>50720</td>\n",
              "      <td>2014</td>\n",
              "      <td>1</td>\n",
              "      <td>1</td>\n",
              "      <td>2015</td>\n",
              "      <td>5</td>\n",
              "      <td>1990</td>\n",
              "      <td>1</td>\n",
              "      <td>0</td>\n",
              "      <td>0</td>\n",
              "      <td>1</td>\n",
              "      <td>0</td>\n",
              "      <td>0</td>\n",
              "      <td>0</td>\n",
              "      <td>0</td>\n",
              "      <td>0</td>\n",
              "      <td>1</td>\n",
              "      <td>0</td>\n",
              "      <td>0</td>\n",
              "      <td>0</td>\n",
              "      <td>1</td>\n",
              "      <td>0</td>\n",
              "      <td>1</td>\n",
              "      <td>0</td>\n",
              "      <td>0</td>\n",
              "      <td>...</td>\n",
              "      <td>0</td>\n",
              "      <td>1</td>\n",
              "      <td>0</td>\n",
              "      <td>0</td>\n",
              "      <td>1</td>\n",
              "      <td>0</td>\n",
              "      <td>0</td>\n",
              "      <td>0</td>\n",
              "      <td>0</td>\n",
              "      <td>1</td>\n",
              "      <td>0</td>\n",
              "      <td>0</td>\n",
              "      <td>0</td>\n",
              "      <td>0</td>\n",
              "      <td>0</td>\n",
              "      <td>0</td>\n",
              "      <td>0</td>\n",
              "      <td>0</td>\n",
              "      <td>1</td>\n",
              "      <td>1</td>\n",
              "      <td>0</td>\n",
              "      <td>0</td>\n",
              "      <td>0</td>\n",
              "      <td>1</td>\n",
              "      <td>0</td>\n",
              "      <td>0</td>\n",
              "      <td>0</td>\n",
              "      <td>1</td>\n",
              "      <td>0</td>\n",
              "      <td>0</td>\n",
              "      <td>0</td>\n",
              "      <td>0</td>\n",
              "      <td>0</td>\n",
              "      <td>0</td>\n",
              "      <td>0</td>\n",
              "      <td>0</td>\n",
              "      <td>0</td>\n",
              "      <td>0</td>\n",
              "      <td>0</td>\n",
              "      <td>0</td>\n",
              "    </tr>\n",
              "    <tr>\n",
              "      <th>4</th>\n",
              "      <td>228</td>\n",
              "      <td>0.500000</td>\n",
              "      <td>1000</td>\n",
              "      <td>1583.91</td>\n",
              "      <td>5</td>\n",
              "      <td>3</td>\n",
              "      <td>66000</td>\n",
              "      <td>-46000</td>\n",
              "      <td>20</td>\n",
              "      <td>1</td>\n",
              "      <td>0</td>\n",
              "      <td>1</td>\n",
              "      <td>6500</td>\n",
              "      <td>1300</td>\n",
              "      <td>650</td>\n",
              "      <td>4550</td>\n",
              "      <td>2009</td>\n",
              "      <td>0</td>\n",
              "      <td>2</td>\n",
              "      <td>2015</td>\n",
              "      <td>6</td>\n",
              "      <td>2014</td>\n",
              "      <td>1</td>\n",
              "      <td>0</td>\n",
              "      <td>0</td>\n",
              "      <td>0</td>\n",
              "      <td>1</td>\n",
              "      <td>0</td>\n",
              "      <td>0</td>\n",
              "      <td>0</td>\n",
              "      <td>0</td>\n",
              "      <td>1</td>\n",
              "      <td>0</td>\n",
              "      <td>0</td>\n",
              "      <td>0</td>\n",
              "      <td>0</td>\n",
              "      <td>1</td>\n",
              "      <td>0</td>\n",
              "      <td>1</td>\n",
              "      <td>0</td>\n",
              "      <td>...</td>\n",
              "      <td>0</td>\n",
              "      <td>0</td>\n",
              "      <td>0</td>\n",
              "      <td>1</td>\n",
              "      <td>0</td>\n",
              "      <td>0</td>\n",
              "      <td>0</td>\n",
              "      <td>0</td>\n",
              "      <td>0</td>\n",
              "      <td>1</td>\n",
              "      <td>0</td>\n",
              "      <td>0</td>\n",
              "      <td>0</td>\n",
              "      <td>0</td>\n",
              "      <td>0</td>\n",
              "      <td>0</td>\n",
              "      <td>1</td>\n",
              "      <td>0</td>\n",
              "      <td>0</td>\n",
              "      <td>1</td>\n",
              "      <td>0</td>\n",
              "      <td>0</td>\n",
              "      <td>0</td>\n",
              "      <td>1</td>\n",
              "      <td>0</td>\n",
              "      <td>0</td>\n",
              "      <td>0</td>\n",
              "      <td>0</td>\n",
              "      <td>0</td>\n",
              "      <td>0</td>\n",
              "      <td>0</td>\n",
              "      <td>0</td>\n",
              "      <td>0</td>\n",
              "      <td>0</td>\n",
              "      <td>0</td>\n",
              "      <td>0</td>\n",
              "      <td>0</td>\n",
              "      <td>1</td>\n",
              "      <td>0</td>\n",
              "      <td>0</td>\n",
              "    </tr>\n",
              "  </tbody>\n",
              "</table>\n",
              "<p>5 rows × 88 columns</p>\n",
              "</div>"
            ],
            "text/plain": [
              "   months_as_customer  ...  insured_occupation_transport-moving\n",
              "0                 328  ...                                    0\n",
              "1                 228  ...                                    0\n",
              "2                 134  ...                                    0\n",
              "3                 256  ...                                    0\n",
              "4                 228  ...                                    0\n",
              "\n",
              "[5 rows x 88 columns]"
            ]
          },
          "metadata": {
            "tags": []
          },
          "execution_count": 178
        }
      ]
    },
    {
      "cell_type": "code",
      "metadata": {
        "colab": {
          "base_uri": "https://localhost:8080/"
        },
        "id": "A4D7mC1Qga9V",
        "outputId": "5160d6e9-f5a1-4411-fe46-78eff6576b00"
      },
      "source": [
        "dum_df.shape"
      ],
      "execution_count": null,
      "outputs": [
        {
          "output_type": "execute_result",
          "data": {
            "text/plain": [
              "(999, 88)"
            ]
          },
          "metadata": {
            "tags": []
          },
          "execution_count": 179
        }
      ]
    },
    {
      "cell_type": "code",
      "metadata": {
        "colab": {
          "base_uri": "https://localhost:8080/",
          "height": 302
        },
        "id": "3GROcMLmWOjn",
        "outputId": "5971c7b3-96c8-4667-a97b-4cfaebdb3627"
      },
      "source": [
        "sns.set_style('whitegrid')\r\n",
        "sns.countplot(x='fraud_reported',data=dum_df)"
      ],
      "execution_count": null,
      "outputs": [
        {
          "output_type": "execute_result",
          "data": {
            "text/plain": [
              "<matplotlib.axes._subplots.AxesSubplot at 0x7f7d8bb024a8>"
            ]
          },
          "metadata": {
            "tags": []
          },
          "execution_count": 180
        },
        {
          "output_type": "display_data",
          "data": {
            "image/png": "[encoded data removed]",
            "text/plain": [
              "<Figure size 432x288 with 1 Axes>"
            ]
          },
          "metadata": {
            "tags": []
          }
        }
      ]
    },
    {
      "cell_type": "code",
      "metadata": {
        "id": "iJUP3lYPlcMJ"
      },
      "source": [
        ""
      ],
      "execution_count": null,
      "outputs": []
    }
  ]
}